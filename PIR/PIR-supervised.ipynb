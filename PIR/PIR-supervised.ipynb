{
 "cells": [
  {
   "cell_type": "code",
   "execution_count": 1,
   "metadata": {},
   "outputs": [
    {
     "name": "stderr",
     "output_type": "stream",
     "text": [
      "D:\\Anaconda2\\lib\\site-packages\\sklearn\\cross_validation.py:41: DeprecationWarning: This module was deprecated in version 0.18 in favor of the model_selection module into which all the refactored classes and functions are moved. Also note that the interface of the new CV iterators are different from that of this module. This module will be removed in 0.20.\n",
      "  \"This module will be removed in 0.20.\", DeprecationWarning)\n"
     ]
    }
   ],
   "source": [
    "from sklearn.cluster import KMeans\n",
    "from sklearn.mixture import GaussianMixture\n",
    "from sklearn.decomposition import PCA, FastICA\n",
    "from sklearn.model_selection import GridSearchCV\n",
    "from sklearn.tree import DecisionTreeClassifier\n",
    "from sklearn.ensemble import AdaBoostClassifier, RandomForestClassifier\n",
    "from sklearn.svm import SVC\n",
    "from sklearn.naive_bayes import GaussianNB\n",
    "from sklearn.neighbors import KNeighborsClassifier\n",
    "from sklearn.cross_validation import train_test_split\n",
    "from sklearn.metrics import f1_score\n",
    "import numpy as np\n",
    "import pandas as pd\n",
    "import json\n",
    "import pickle"
   ]
  },
  {
   "cell_type": "code",
   "execution_count": 2,
   "metadata": {},
   "outputs": [
    {
     "name": "stdout",
     "output_type": "stream",
     "text": [
      "336\n",
      "273\n"
     ]
    }
   ],
   "source": [
    "def sum_pir(data):\n",
    "    new_data = []\n",
    "    for r in range(len(data)):\n",
    "        new_entry = [0,0,0,0,0]\n",
    "        for c in range(len(data[r])):\n",
    "            new_entry[c%5] += data[r][c]\n",
    "        new_data.append(new_entry)\n",
    "    return new_data\n",
    "\n",
    "with open(\"data_2_28.txt\", \"r\") as file:\n",
    "    lines = file.readlines()\n",
    "print len(lines)\n",
    "features = []\n",
    "label = []\n",
    "y_d = []\n",
    "y_v = []\n",
    "for i in lines:\n",
    "    tmp = json.loads(i)\n",
    "    if int(tmp[\"v\"])==0:\n",
    "        features.append(tmp[\"values\"])\n",
    "        label.append(tmp[\"y\"])\n",
    "\n",
    "features = pd.DataFrame(features)\n",
    "label = pd.Series(label)\n",
    "print len(label)\n"
   ]
  },
  {
   "cell_type": "code",
   "execution_count": 81,
   "metadata": {},
   "outputs": [
    {
     "name": "stdout",
     "output_type": "stream",
     "text": [
      "[ 0.25507466  0.16247124  0.12199715  0.10100094  0.07413243]\n"
     ]
    }
   ],
   "source": [
    "ica = PCA(n_components=5).fit(features)\n",
    "print ica.explained_variance_ratio_\n",
    "X = ica.transform(features)\n",
    "# X = features\n",
    "y = label\n",
    "X_train,X_test,y_train,y_test = train_test_split(X,y,test_size=0.1)\n"
   ]
  },
  {
   "cell_type": "code",
   "execution_count": 82,
   "metadata": {},
   "outputs": [
    {
     "name": "stdout",
     "output_type": "stream",
     "text": [
      "0.535714285714\n"
     ]
    }
   ],
   "source": [
    "# Decision Tree\n",
    "param_grid = [{'max_depth':range(1,20),'min_samples_leaf':range(1,20)}]\n",
    "clf = GridSearchCV(DecisionTreeClassifier(),param_grid).fit(X_train,y_train)\n",
    "clusterer = clf.best_estimator_ \n",
    "print clusterer.score(X_test,y_test)"
   ]
  },
  {
   "cell_type": "code",
   "execution_count": 78,
   "metadata": {},
   "outputs": [
    {
     "name": "stdout",
     "output_type": "stream",
     "text": [
      "0.464285714286\n"
     ]
    }
   ],
   "source": [
    "# Gaussian NB\n",
    "clf = GaussianNB().fit(X_train,y_train)\n",
    "print clf.score(X_test,y_test)"
   ]
  },
  {
   "cell_type": "code",
   "execution_count": 47,
   "metadata": {},
   "outputs": [
    {
     "name": "stdout",
     "output_type": "stream",
     "text": [
      "0.428571428571\n"
     ]
    }
   ],
   "source": [
    "# ensemble\n",
    "clf = RandomForestClassifier().fit(X_train,y_train)\n",
    "print clf.score(X_test,y_test)"
   ]
  },
  {
   "cell_type": "code",
   "execution_count": 37,
   "metadata": {},
   "outputs": [
    {
     "name": "stdout",
     "output_type": "stream",
     "text": [
      "0.357142857143\n"
     ]
    }
   ],
   "source": [
    "# KNeighbors\n",
    "param_grid = [{'n_neighbors':range(1,20)}]\n",
    "clf = GridSearchCV(KNeighborsClassifier(),param_grid).fit(X_train,y_train)\n",
    "clusterer = clf.best_estimator_ \n",
    "print clusterer.score(X_test,y_test)"
   ]
  },
  {
   "cell_type": "code",
   "execution_count": null,
   "metadata": {
    "collapsed": true
   },
   "outputs": [],
   "source": []
  },
  {
   "cell_type": "code",
   "execution_count": null,
   "metadata": {
    "collapsed": true,
    "scrolled": true
   },
   "outputs": [],
   "source": [
    "statistics = np.around(sum_pir(ica.inverse_transform(clusterer.means_)),1)\n",
    "for i in statistics:\n",
    "    print i"
   ]
  },
  {
   "cell_type": "code",
   "execution_count": 85,
   "metadata": {
    "collapsed": true
   },
   "outputs": [],
   "source": [
    "labels = ['window','refrig','trash','oven','cook','sink','bed','onbed','wall']"
   ]
  },
  {
   "cell_type": "code",
   "execution_count": 83,
   "metadata": {
    "collapsed": true
   },
   "outputs": [],
   "source": [
    "with open(\"DecisionTree\",\"wb\") as sf1:\n",
    "    pickle.dump(clf, sf1)"
   ]
  },
  {
   "cell_type": "code",
   "execution_count": 84,
   "metadata": {
    "collapsed": true
   },
   "outputs": [],
   "source": [
    "with open(\"decomposition\",\"wb\") as sf2:\n",
    "    pickle.dump(ica, sf2)"
   ]
  },
  {
   "cell_type": "code",
   "execution_count": 86,
   "metadata": {
    "collapsed": true
   },
   "outputs": [],
   "source": [
    "with open(\"labels\",\"wb\") as sf3:\n",
    "    pickle.dump(labels, sf3)"
   ]
  },
  {
   "cell_type": "code",
   "execution_count": null,
   "metadata": {
    "collapsed": true
   },
   "outputs": [],
   "source": []
  },
  {
   "cell_type": "code",
   "execution_count": null,
   "metadata": {
    "collapsed": true
   },
   "outputs": [],
   "source": []
  },
  {
   "cell_type": "code",
   "execution_count": null,
   "metadata": {
    "collapsed": true
   },
   "outputs": [],
   "source": []
  },
  {
   "cell_type": "code",
   "execution_count": null,
   "metadata": {
    "collapsed": true
   },
   "outputs": [],
   "source": []
  },
  {
   "cell_type": "code",
   "execution_count": null,
   "metadata": {
    "collapsed": true
   },
   "outputs": [],
   "source": []
  }
 ],
 "metadata": {
  "kernelspec": {
   "display_name": "Python 2",
   "language": "python",
   "name": "python2"
  },
  "language_info": {
   "codemirror_mode": {
    "name": "ipython",
    "version": 2
   },
   "file_extension": ".py",
   "mimetype": "text/x-python",
   "name": "python",
   "nbconvert_exporter": "python",
   "pygments_lexer": "ipython2",
   "version": "2.7.14"
  }
 },
 "nbformat": 4,
 "nbformat_minor": 2
}
